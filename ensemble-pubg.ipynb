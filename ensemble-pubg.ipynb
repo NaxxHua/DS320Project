{
 "cells": [
  {
   "cell_type": "code",
   "execution_count": null,
   "metadata": {
    "_cell_guid": "b1076dfc-b9ad-4769-8c92-a6c4dae69d19",
    "_uuid": "8f2839f25d086af736a60e9eeb907d3b93b6e0e5"
   },
   "outputs": [],
   "source": [
    "# This Python 3 environment comes with many helpful analytics libraries installed\n",
    "# It is defined by the kaggle/python docker image: https://github.com/kaggle/docker-python\n",
    "# For example, here's several helpful packages to load in \n",
    "\n",
    "import numpy as np # linear algebra\n",
    "import pandas as pd # data processing, CSV file I/O (e.g. pd.read_csv)\n",
    "\n",
    "# Input data files are available in the \"../input/\" directory.\n",
    "# For example, running this (by clicking run or pressing Shift+Enter) will list the files in the input directory\n",
    "\n",
    "import os\n",
    "print(os.listdir(\"../input\"))\n",
    "\n",
    "# Any results you write to the current directory are saved as output."
   ]
  },
  {
   "cell_type": "code",
   "execution_count": null,
   "metadata": {
    "_cell_guid": "79c7e3d0-c299-4dcb-8224-4455121ee9b0",
    "_uuid": "d629ff2d2480ee46fbb7e2d37f6b5fab8052498a"
   },
   "outputs": [],
   "source": [
    "import numpy as np\n",
    "import pandas as pd\n",
    "import os\n",
    "from sklearn.linear_model import LogisticRegression\n",
    "from scipy.special import expit, logit\n",
    "from sklearn.metrics import roc_auc_score"
   ]
  },
  {
   "cell_type": "code",
   "execution_count": null,
   "metadata": {
    "_uuid": "80df48ed4d62245d94258eab3bcc759694c4f4a7"
   },
   "outputs": [],
   "source": [
    "import warnings\n",
    "warnings.filterwarnings('ignore')"
   ]
  },
  {
   "cell_type": "code",
   "execution_count": null,
   "metadata": {
    "_uuid": "0abeffde42e2fb74931f7b15d093e05499542dfd"
   },
   "outputs": [],
   "source": [
    "# read in the csv result from xgboost\n",
    "xgb_sub = pd.read_csv('../input/xgboost/submission (2).csv')"
   ]
  },
  {
   "cell_type": "code",
   "execution_count": null,
   "metadata": {
    "_uuid": "3f854386b28bb1f481a2017698413defa2ae83f5"
   },
   "outputs": [],
   "source": [
    "# add log score for the winPlacePerc\n",
    "xgb_sub['log1']=xgb_sub['winPlacePerc'].apply(lambda x: np.log(x))"
   ]
  },
  {
   "cell_type": "code",
   "execution_count": null,
   "metadata": {
    "_uuid": "44e4ca90f64f72af4a0a2b35f34f552608402516"
   },
   "outputs": [],
   "source": [
    "# read in the csv result from lightgbm\n",
    "light_sub = pd.read_csv('../input/lightgbm/submission (1).csv')"
   ]
  },
  {
   "cell_type": "code",
   "execution_count": null,
   "metadata": {
    "_uuid": "f4168a9417bfc86cfd5118f02652775dc90c2874"
   },
   "outputs": [],
   "source": [
    "# add log score for the winPlacePerc\n",
    "light_sub['log2']=light_sub['winPlacePerc'].apply(lambda x: np.log(x))"
   ]
  },
  {
   "cell_type": "code",
   "execution_count": null,
   "metadata": {
    "_uuid": "5d92fb18f9fed4732baa042ac2899e43d458f5d7"
   },
   "outputs": [],
   "source": [
    "# read in the csv result from catboost\n",
    "cat_sub = pd.read_csv('../input/catboost/submission_pubg.csv')"
   ]
  },
  {
   "cell_type": "code",
   "execution_count": null,
   "metadata": {
    "_uuid": "50ce488520110ed8b0da3c42d4abccbc780b3f53"
   },
   "outputs": [],
   "source": [
    "# add log score for the winPlacePerc\n",
    "cat_sub['log3']=cat_sub['winPlacePerc'].apply(lambda x: np.log(x))"
   ]
  },
  {
   "cell_type": "code",
   "execution_count": null,
   "metadata": {
    "_uuid": "d60c272a4bad33873b67cedd12e2f6d905443153"
   },
   "outputs": [],
   "source": [
    "#take a lot at the data\n",
    "xgb_sub.head()"
   ]
  },
  {
   "cell_type": "code",
   "execution_count": null,
   "metadata": {
    "_uuid": "c63128b75e2961f746d1d1922a01f27d5bef5247"
   },
   "outputs": [],
   "source": [
    "#take a lot at the data\n",
    "light_sub.head()"
   ]
  },
  {
   "cell_type": "code",
   "execution_count": null,
   "metadata": {
    "_uuid": "2a8edf0d2bf4010ae49432d2a076aa05b60c1f8d"
   },
   "outputs": [],
   "source": [
    "#take a lot at the data\n",
    "cat_sub.head()"
   ]
  },
  {
   "cell_type": "code",
   "execution_count": null,
   "metadata": {
    "_uuid": "ed4384b9855392bbae57a4f56ecdf6dcb07b7e0a"
   },
   "outputs": [],
   "source": [
    "#merge them into one dataset\n",
    "dfs = [xgb_sub, light_sub, cat_sub]"
   ]
  },
  {
   "cell_type": "code",
   "execution_count": null,
   "metadata": {
    "_uuid": "69bfb08e3963850026cd2455d2002d3bfbdd7d69"
   },
   "outputs": [],
   "source": [
    "#import function tools for reduce\n",
    "import functools"
   ]
  },
  {
   "cell_type": "code",
   "execution_count": null,
   "metadata": {
    "_uuid": "d4fc04ed439e4a8aa5023d48e0bf4f246eb83e17"
   },
   "outputs": [],
   "source": [
    "# reduce lambda\n",
    "df_final = functools.reduce(lambda left,right: pd.merge(left,right,on='Id'), dfs)"
   ]
  },
  {
   "cell_type": "code",
   "execution_count": null,
   "metadata": {
    "_uuid": "47eecbdc92c1892eefb4491df0678517c3161eae"
   },
   "outputs": [],
   "source": [
    "# take a look at the final dataset\n",
    "df_final.head()"
   ]
  },
  {
   "cell_type": "code",
   "execution_count": null,
   "metadata": {
    "_uuid": "01295960fc198739145b94fc39e62e5ad9efaccf"
   },
   "outputs": [],
   "source": [
    "#create a empty data frame for the final submission\n",
    "sub5 = pd.DataFrame()"
   ]
  },
  {
   "cell_type": "code",
   "execution_count": null,
   "metadata": {
    "_uuid": "1acabccd6a5716a0fa7541649450662429c97c6c"
   },
   "outputs": [],
   "source": [
    "# get id from one of the dataset\n",
    "sub5['Id'] = cat_sub['Id']"
   ]
  },
  {
   "cell_type": "code",
   "execution_count": null,
   "metadata": {
    "_uuid": "894da06f9d4ee817faf5a82189ef549a45f24588"
   },
   "outputs": [],
   "source": [
    "#assign better weight to the better score data\n",
    "sub5['winPlacePerc']=np.exp(0.3*df_final['log1']+0.2*df_final['log2']+0.5*df_final['log3'])"
   ]
  },
  {
   "cell_type": "code",
   "execution_count": null,
   "metadata": {
    "_uuid": "b73a3a3bf4c379d0b8f85786f667ebe56bdae868"
   },
   "outputs": [],
   "source": [
    "# fill na with 0\n",
    "sub5 = sub5.fillna(0)"
   ]
  },
  {
   "cell_type": "code",
   "execution_count": null,
   "metadata": {
    "_uuid": "7af06c5588b62cde8d5ba5a177ff52b779ac2688"
   },
   "outputs": [],
   "source": [
    "#output ensemble result\n",
    "sub5.to_csv('models_ensemble5.csv',index=False)"
   ]
  }
 ],
 "metadata": {
  "kernelspec": {
   "display_name": "Python 3",
   "language": "python",
   "name": "python3"
  },
  "language_info": {
   "codemirror_mode": {
    "name": "ipython",
    "version": 3
   },
   "file_extension": ".py",
   "mimetype": "text/x-python",
   "name": "python",
   "nbconvert_exporter": "python",
   "pygments_lexer": "ipython3",
   "version": "3.7.0"
  }
 },
 "nbformat": 4,
 "nbformat_minor": 1
}
